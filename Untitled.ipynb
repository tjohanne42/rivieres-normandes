{
 "cells": [
  {
   "cell_type": "code",
   "execution_count": 1,
   "metadata": {
    "scrolled": true
   },
   "outputs": [
    {
     "name": "stdout",
     "output_type": "stream",
     "text": [
      "<class 'pandas.core.frame.DataFrame'>\n",
      "RangeIndex: 398786 entries, 0 to 398785\n",
      "Data columns (total 4 columns):\n",
      " #   Column       Non-Null Count   Dtype  \n",
      "---  ------       --------------   -----  \n",
      " 0   Unnamed: 0   398786 non-null  int64  \n",
      " 1   date_mesure  398786 non-null  object \n",
      " 2   Teau         398786 non-null  float64\n",
      " 3   id_sonde     398786 non-null  int64  \n",
      "dtypes: float64(1), int64(2), object(1)\n",
      "memory usage: 12.2+ MB\n"
     ]
    }
   ],
   "source": [
    "import pandas as pd\n",
    "\n",
    "temp = pd.read_csv(\"csv/temp.csv\")\n",
    "temp.info()"
   ]
  },
  {
   "cell_type": "code",
   "execution_count": 9,
   "metadata": {},
   "outputs": [
    {
     "name": "stdout",
     "output_type": "stream",
     "text": [
      "<class 'pandas.core.frame.DataFrame'>\n",
      "RangeIndex: 33252 entries, 0 to 33251\n",
      "Data columns (total 3 columns):\n",
      " #   Column       Non-Null Count  Dtype  \n",
      "---  ------       --------------  -----  \n",
      " 0   date_mesure  33252 non-null  object \n",
      " 1   Teau         33252 non-null  float64\n",
      " 2   id_sonde     33252 non-null  int64  \n",
      "dtypes: float64(1), int64(1), object(1)\n",
      "memory usage: 779.5+ KB\n",
      "None\n",
      "  date_mesure     Teau  id_sonde\n",
      "0  2013-05-29  10.9752       104\n",
      "1  2013-05-29  10.1976       109\n",
      "2  2013-05-29  11.4332       771\n",
      "3  2013-05-29  11.7102       813\n",
      "4  2013-05-29  11.7534       815\n",
      "      date_mesure     Teau  id_sonde\n",
      "33247  2018-10-05  13.5550       824\n",
      "33248  2018-10-05  12.7702       825\n",
      "33249  2018-10-05  11.8890       827\n",
      "33250  2018-10-05  12.4072       828\n",
      "33251  2018-10-05  13.1990       830\n"
     ]
    }
   ],
   "source": [
    "x = 0\n",
    "\n",
    "nb_hours = 0\n",
    "values = [0] * 17\n",
    "\n",
    "tab_mean = []\n",
    "tab_date = [temp[\"date_mesure\"][0].split(\" \")[0]]\n",
    "\n",
    "while x < len(temp):\n",
    "    date = temp[\"date_mesure\"][x].split(\" \")[0]\n",
    "    \n",
    "    if date != tab_date[-1]:\n",
    "        for value in values:\n",
    "            tab_mean.append(value / nb_hours)\n",
    "        tab_date.append(date)\n",
    "        values = [0] * 17\n",
    "        nb_hours = 0\n",
    "\n",
    "    y = 0\n",
    "    while y < 17:\n",
    "        values[y] += temp[\"Teau\"][x + y]\n",
    "        y += 1\n",
    "        \n",
    "    x += 17\n",
    "    nb_hours += 1\n",
    "        \n",
    "for value in values:\n",
    "    tab_mean.append(value / nb_hours)\n",
    "    \n",
    "dates = []\n",
    "for date in tab_date:\n",
    "    i = 0\n",
    "    while i < 17:\n",
    "        dates.append(date)\n",
    "        i += 1\n",
    "\n",
    "dic = {\n",
    "        \"date_mesure\" : dates,\n",
    "        \"Teau\" : tab_mean,\n",
    "        \"id_sonde\" : [104, 109, 771, 813, 815, 816, 817, 818, 819, 820, 821, 823, 824, 825, 827, 828, 830] * len(tab_date)\n",
    "    }\n",
    "temp_day = pd.DataFrame(data=dic)\n",
    "print(temp_day.info())\n",
    "print(temp_day.head())\n",
    "print(temp_day.tail())"
   ]
  },
  {
   "cell_type": "code",
   "execution_count": 10,
   "metadata": {
    "scrolled": false
   },
   "outputs": [],
   "source": [
    "temp_day.to_csv(\"csv/temp_day.csv\")"
   ]
  },
  {
   "cell_type": "code",
   "execution_count": 14,
   "metadata": {},
   "outputs": [
    {
     "name": "stdout",
     "output_type": "stream",
     "text": [
      "<class 'pandas.core.frame.DataFrame'>\n",
      "RangeIndex: 1122 entries, 0 to 1121\n",
      "Data columns (total 3 columns):\n",
      " #   Column       Non-Null Count  Dtype  \n",
      "---  ------       --------------  -----  \n",
      " 0   date_mesure  1122 non-null   object \n",
      " 1   Teau         1122 non-null   float64\n",
      " 2   id_sonde     1122 non-null   int64  \n",
      "dtypes: float64(1), int64(1), object(1)\n",
      "memory usage: 26.4+ KB\n",
      "None\n",
      "  date_mesure       Teau  id_sonde\n",
      "0     2013-05  10.972000       104\n",
      "1     2013-05  10.107667       109\n",
      "2     2013-05  11.280667       771\n",
      "3     2013-05  11.669667       813\n",
      "4     2013-05  11.459000       815\n",
      "     date_mesure     Teau  id_sonde\n",
      "1117     2018-10  12.6060       824\n",
      "1118     2018-10  12.3208       825\n",
      "1119     2018-10  11.8360       827\n",
      "1120     2018-10  11.9964       828\n",
      "1121     2018-10  12.2482       830\n"
     ]
    }
   ],
   "source": [
    "temp_day = pd.read_csv(\"csv/temp_day.csv\")\n",
    "\n",
    "x = 0\n",
    "\n",
    "nb_days = 0\n",
    "values = [0] * 17\n",
    "\n",
    "tab_mean = []\n",
    "tab_date = [temp_day[\"date_mesure\"][0][0:7]]\n",
    "\n",
    "while x < len(temp_day):\n",
    "    date = temp_day[\"date_mesure\"][x][0:7]\n",
    "    \n",
    "    if date != tab_date[-1]:\n",
    "        for value in values:\n",
    "            tab_mean.append(value / nb_days)\n",
    "        tab_date.append(date)\n",
    "        values = [0] * 17\n",
    "        nb_days = 0\n",
    "\n",
    "    y = 0\n",
    "    while y < 17:\n",
    "        values[y] += temp[\"Teau\"][x + y]\n",
    "        y += 1\n",
    "        \n",
    "    x += 17\n",
    "    nb_days += 1\n",
    "        \n",
    "for value in values:\n",
    "    tab_mean.append(value / nb_days)\n",
    "    \n",
    "dates = []\n",
    "for date in tab_date:\n",
    "    i = 0\n",
    "    while i < 17:\n",
    "        dates.append(date)\n",
    "        i += 1\n",
    "\n",
    "dic = {\n",
    "        \"date_mesure\" : dates,\n",
    "        \"Teau\" : tab_mean,\n",
    "        \"id_sonde\" : [104, 109, 771, 813, 815, 816, 817, 818, 819, 820, 821, 823, 824, 825, 827, 828, 830] * len(tab_date)\n",
    "    }\n",
    "temp_month = pd.DataFrame(data=dic)\n",
    "print(temp_month.info())\n",
    "print(temp_month.head())\n",
    "print(temp_month.tail())"
   ]
  },
  {
   "cell_type": "code",
   "execution_count": 15,
   "metadata": {},
   "outputs": [],
   "source": [
    "temp_month.to_csv(\"csv/temp_month.csv\")"
   ]
  },
  {
   "cell_type": "code",
   "execution_count": null,
   "metadata": {},
   "outputs": [],
   "source": []
  }
 ],
 "metadata": {
  "kernelspec": {
   "display_name": "Python 3",
   "language": "python",
   "name": "python3"
  },
  "language_info": {
   "codemirror_mode": {
    "name": "ipython",
    "version": 3
   },
   "file_extension": ".py",
   "mimetype": "text/x-python",
   "name": "python",
   "nbconvert_exporter": "python",
   "pygments_lexer": "ipython3",
   "version": "3.7.6"
  }
 },
 "nbformat": 4,
 "nbformat_minor": 4
}
